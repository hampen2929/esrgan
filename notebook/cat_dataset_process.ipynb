{
 "cells": [
  {
   "cell_type": "markdown",
   "metadata": {},
   "source": [
    "# import "
   ]
  },
  {
   "cell_type": "code",
   "execution_count": 1,
   "metadata": {},
   "outputs": [],
   "source": [
    "import os\n",
    "import os.path as osp\n",
    "from glob import glob\n",
    "import shutil\n",
    "\n",
    "import cv2\n",
    "import matplotlib.pyplot as plt\n",
    "import numpy as np\n",
    "\n",
    "from tqdm import tqdm\n",
    "from sklearn.model_selection import train_test_split"
   ]
  },
  {
   "cell_type": "markdown",
   "metadata": {},
   "source": [
    "# path"
   ]
  },
  {
   "cell_type": "code",
   "execution_count": 2,
   "metadata": {},
   "outputs": [],
   "source": [
    "base_dir = '../'\n",
    "input_dir = osp.join(base_dir, 'input')\n",
    "dataset_dir = osp.join(input_dir, 'cat-dataset')\n",
    "save_dir = osp.join(input_dir, 'cat')\n",
    "os.makedirs(save_dir, exist_ok=True)"
   ]
  },
  {
   "cell_type": "markdown",
   "metadata": {},
   "source": [
    "# copy image to one folder"
   ]
  },
  {
   "cell_type": "code",
   "execution_count": 3,
   "metadata": {},
   "outputs": [
    {
     "data": {
      "text/plain": [
       "['CAT_02', 'CAT_06', 'CAT_05', 'CAT_03', 'CAT_00', 'CAT_01', 'CAT_04']"
      ]
     },
     "execution_count": 3,
     "metadata": {},
     "output_type": "execute_result"
    }
   ],
   "source": [
    "data_names = os.listdir(dataset_dir)\n",
    "data_names"
   ]
  },
  {
   "cell_type": "code",
   "execution_count": 5,
   "metadata": {
    "lines_to_end_of_cell_marker": 2,
    "lines_to_next_cell": 0
   },
   "outputs": [
    {
     "name": "stderr",
     "output_type": "stream",
     "text": [
      "100%|██████████| 7/7 [00:02<00:00,  2.77it/s]\n"
     ]
    }
   ],
   "source": [
    "# 種類によってフォルダが分けられている猫の画像を一つのフォルダにまとめる\n",
    "image_num = 1\n",
    "for data_name in tqdm(data_names):\n",
    "    data_dir = osp.join(dataset_dir, data_name)\n",
    "    file_names = os.listdir(data_dir)\n",
    "    file_names = [file_name for file_name in file_names if osp.splitext(file_name)[1] == '.jpg']\n",
    "    file_names.sort()\n",
    "    \n",
    "    for file_name in file_names:\n",
    "        image_path = osp.join(data_dir, file_name)\n",
    "        save_image_num = '{:07}.jpg'.format(image_num)\n",
    "        save_path = osp.join(save_dir, save_image_num)\n",
    "        \n",
    "        shutil.copy(image_path, save_path)\n",
    "        image_num += 1"
   ]
  },
  {
   "cell_type": "markdown",
   "metadata": {},
   "source": [
    "# Split and crop data"
   ]
  },
  {
   "cell_type": "code",
   "execution_count": 6,
   "metadata": {},
   "outputs": [
    {
     "data": {
      "text/plain": [
       "['../input/cat/0000001.jpg',\n",
       " '../input/cat/0000002.jpg',\n",
       " '../input/cat/0000003.jpg',\n",
       " '../input/cat/0000004.jpg',\n",
       " '../input/cat/0000005.jpg',\n",
       " '../input/cat/0000006.jpg',\n",
       " '../input/cat/0000007.jpg',\n",
       " '../input/cat/0000008.jpg',\n",
       " '../input/cat/0000009.jpg',\n",
       " '../input/cat/0000010.jpg']"
      ]
     },
     "execution_count": 6,
     "metadata": {},
     "output_type": "execute_result"
    }
   ],
   "source": [
    "image_paths = glob(osp.join(save_dir, '*'))\n",
    "image_paths.sort()\n",
    "image_paths[0:10]"
   ]
  },
  {
   "cell_type": "code",
   "execution_count": 7,
   "metadata": {},
   "outputs": [
    {
     "name": "stdout",
     "output_type": "stream",
     "text": [
      "9897\n",
      "100\n"
     ]
    }
   ],
   "source": [
    "train_paths, test_paths = train_test_split(image_paths, test_size=100, random_state=0)\n",
    "print(len(train_paths))\n",
    "print(len(test_paths))"
   ]
  },
  {
   "cell_type": "code",
   "execution_count": 8,
   "metadata": {},
   "outputs": [],
   "source": [
    "def random_crop(image, crop_size):\n",
    "    h, w, _ = image.shape\n",
    "\n",
    "    top = np.random.randint(0, h - crop_size[0])\n",
    "    left = np.random.randint(0, w - crop_size[1])\n",
    "\n",
    "    bottom = top + crop_size[0]\n",
    "    right = left + crop_size[1]\n",
    "\n",
    "    image = image[top:bottom, left:right, :]\n",
    "    return image"
   ]
  },
  {
   "cell_type": "code",
   "execution_count": 13,
   "metadata": {},
   "outputs": [],
   "source": [
    "def split_save(image_paths, data_type, crop_size=(128, 128), num_aug=1):\n",
    "    shapes = []\n",
    "    for image_path in tqdm(image_paths):\n",
    "        image_name = osp.basename(image_path)\n",
    "        image = cv2.imread(image_path)\n",
    "        for aug_n in range(1, num_aug+1):\n",
    "            image_rsz = random_crop(image, crop_size)\n",
    "            save_image_name = '{}-{:3}.jpg'.format(image_name, aug_n)\n",
    "            image_save_path = osp.join(data_save_dir, 'cat_{}'.format(data_type), save_image_name)\n",
    "            os.makedirs(osp.dirname(image_save_path), exist_ok=True)\n",
    "            cv2.imwrite(image_save_path, image_rsz)"
   ]
  },
  {
   "cell_type": "code",
   "execution_count": 20,
   "metadata": {},
   "outputs": [],
   "source": [
    "def split_crop(image_paths, data_type, crop=False, crop_size=(128,128), num_aug=1):\n",
    "    shapes = []\n",
    "    for image_path in tqdm(image_paths):\n",
    "        image_name = osp.basename(image_path)\n",
    "        file_name = osp.splitext(image_name)[0]\n",
    "        image = cv2.imread(image_path)\n",
    "        if (image.shape[0]<=crop_size[0]) | (image.shape[1]<=crop_size[1]):\n",
    "            print('size problem', image_path)\n",
    "            continue\n",
    "        if crop:\n",
    "            for aug_n in range(1, num_aug+1):\n",
    "                image_rsz = random_crop(image, crop_size)\n",
    "                save_image_name = '{}{:03}.jpg'.format(file_name, aug_n)\n",
    "                image_save_path = osp.join(input_dir, 'cat_{}'.format(data_type), save_image_name)\n",
    "                os.makedirs(osp.dirname(image_save_path), exist_ok=True)\n",
    "                cv2.imwrite(image_save_path, image_rsz)\n",
    "        else:\n",
    "            save_image_name = '{}.jpg'.format(file_name)\n",
    "            image_save_path = osp.join(input_dir, 'cat_{}'.format(data_type), save_image_name)\n",
    "            os.makedirs(osp.dirname(image_save_path), exist_ok=True)\n",
    "            cv2.imwrite(image_save_path, image)"
   ]
  },
  {
   "cell_type": "code",
   "execution_count": 21,
   "metadata": {},
   "outputs": [
    {
     "name": "stderr",
     "output_type": "stream",
     "text": [
      " 40%|███▉      | 3949/9897 [00:22<00:34, 172.08it/s]"
     ]
    },
    {
     "name": "stdout",
     "output_type": "stream",
     "text": [
      "size problem ../input/cat/0004278.jpg\n"
     ]
    },
    {
     "name": "stderr",
     "output_type": "stream",
     "text": [
      "100%|██████████| 9897/9897 [00:57<00:00, 173.17it/s]\n",
      "100%|██████████| 100/100 [00:01<00:00, 85.82it/s]\n"
     ]
    }
   ],
   "source": [
    "random_seed = 0\n",
    "np.random.seed(random_seed)\n",
    "split_crop(train_paths, 'train', crop=True)\n",
    "split_crop(test_paths, 'test')"
   ]
  },
  {
   "cell_type": "code",
   "execution_count": null,
   "metadata": {},
   "outputs": [],
   "source": []
  },
  {
   "cell_type": "code",
   "execution_count": null,
   "metadata": {
    "lines_to_next_cell": 2
   },
   "outputs": [],
   "source": []
  }
 ],
 "metadata": {
  "jupytext": {
   "encoding": "# -*- coding: utf-8 -*-",
   "text_representation": {
    "extension": ".py",
    "format_name": "light",
    "format_version": "1.5",
    "jupytext_version": "1.4.2"
   }
  },
  "kernelspec": {
   "display_name": "Python 3",
   "language": "python",
   "name": "python3"
  },
  "language_info": {
   "codemirror_mode": {
    "name": "ipython",
    "version": 3
   },
   "file_extension": ".py",
   "mimetype": "text/x-python",
   "name": "python",
   "nbconvert_exporter": "python",
   "pygments_lexer": "ipython3",
   "version": "3.6.8"
  }
 },
 "nbformat": 4,
 "nbformat_minor": 4
}
